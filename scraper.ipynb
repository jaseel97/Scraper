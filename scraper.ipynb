{
 "cells": [
  {
   "cell_type": "code",
   "execution_count": 2,
   "metadata": {},
   "outputs": [],
   "source": [
    "import requests\n",
    "import json\n",
    "import pandas as pd\n",
    "from requests.exceptions import ConnectionError\n",
    "from bs4 import BeautifulSoup"
   ]
  },
  {
   "cell_type": "code",
   "execution_count": 14,
   "metadata": {},
   "outputs": [],
   "source": [
    "def dmartFetchPrice(url, size):\n",
    "    request = requests.get(url)\n",
    "    request_json = json.loads(request.text)\n",
    "    skus = request_json['dynamicPDP']['data']['productData']['sKUs']\n",
    "    found = False\n",
    "    for sku in skus:\n",
    "        if size in sku['variantTextValue']:\n",
    "            return sku['priceSALE']\n",
    "    if not found:\n",
    "        return -1"
   ]
  },
  {
   "cell_type": "code",
   "execution_count": 18,
   "metadata": {},
   "outputs": [],
   "source": [
    "def blinkitFetchPrice(url,size):\n",
    "    querystring = {\"current_screen\":\"pdp\"}\n",
    "\n",
    "    headers = {\n",
    "    'cache-control': \"no-cache\",\n",
    "    'postman-token': \"e04bff22-b8ab-dca5-fc5e-2f28d6f09497\",\n",
    "    \"user-agent\": \"Mozilla/5.0 (Macintosh; Intel Mac OS X 10_15_5) AppleWebKit/537.36 (KHTML, like Gecko) Chrome/85.0.4183.83 Safari/537.36\"\n",
    "    }\n",
    "\n",
    "    response = requests.request(\"GET\", url, headers=headers, params=querystring)\n",
    "\n",
    "    request_json = json.loads(response.text)\n",
    "    product = request_json['data']['product']\n",
    "    if size in product['unit']:\n",
    "        return product['price']\n",
    "    else:\n",
    "        return -1"
   ]
  },
  {
   "cell_type": "code",
   "execution_count": 10,
   "metadata": {},
   "outputs": [],
   "source": [
    "def bigbasketFetchPrice(url):\n",
    "    headers = {\n",
    "    'cache-control': \"no-cache\",\n",
    "    'postman-token': \"e04bff22-b8ab-dca5-fc5e-2f28d6f09497\",\n",
    "    \"user-agent\": \"Mozilla/5.0 (Macintosh; Intel Mac OS X 10_15_5) AppleWebKit/537.36 (KHTML, like Gecko) Chrome/85.0.4183.83 Safari/537.36\"\n",
    "    }\n",
    "    request = requests.get('https://www.bigbasket.com/pd/126906/aashirvaad-atta-whole-wheat-10-kg-pouch/?nc=as&q=aashir',headers=headers)\n",
    "\n",
    "    soup = BeautifulSoup(request.text, 'html.parser')\n",
    "    data = json.loads(soup.find('script', type='application/ld+json').text)\n",
    "\n",
    "    return data[0]['offers']['price']"
   ]
  },
  {
   "cell_type": "code",
   "execution_count": 11,
   "metadata": {},
   "outputs": [],
   "source": [
    "def flipkartGFetchPrice(url):\n",
    "    headers = {\n",
    "    'cache-control': \"no-cache\",\n",
    "    'postman-token': \"e04bff22-b8ab-dca5-fc5e-2f28d6f09497\",\n",
    "    \"user-agent\": \"Mozilla/5.0 (Macintosh; Intel Mac OS X 10_15_5) AppleWebKit/537.36 (KHTML, like Gecko) Chrome/85.0.4183.83 Safari/537.36\"\n",
    "    }\n",
    "    r = requests.get(url,headers=headers)\n",
    "\n",
    "    soup = BeautifulSoup(r.text, 'html.parser')\n",
    "    mydivs = soup.find_all(\"div\", {\"class\": \"_30jeq3\"})\n",
    "    div = str(mydivs[0])\n",
    "    price = div[div.index('₹')+1:div.index('</')]\n",
    "    return price"
   ]
  },
  {
   "cell_type": "code",
   "execution_count": 20,
   "metadata": {},
   "outputs": [],
   "source": [
    "def jiomartFetchPrice(url):\n",
    "    headers = {\n",
    "    'cache-control': \"no-cache\",\n",
    "    'postman-token': \"e04bff22-b8ab-dca5-fc5e-2f28d6f09497\",\n",
    "    \"user-agent\": \"Mozilla/5.0 (Macintosh; Intel Mac OS X 10_15_5) AppleWebKit/537.36 (KHTML, like Gecko) Chrome/85.0.4183.83 Safari/537.36\"\n",
    "    }\n",
    "    response = requests.get(url,headers=headers)\n",
    "    \n",
    "    response_json = json.loads(response.text)\n",
    "    price = response_json['data']['selling_price']\n",
    "    return price\n",
    "    \n",
    "    "
   ]
  },
  {
   "cell_type": "code",
   "execution_count": 21,
   "metadata": {},
   "outputs": [
    {
     "ename": "TypeError",
     "evalue": "list indices must be integers or slices, not str",
     "output_type": "error",
     "traceback": [
      "\u001b[0;31m---------------------------------------------------------------------------\u001b[0m",
      "\u001b[0;31mTypeError\u001b[0m                                 Traceback (most recent call last)",
      "\u001b[0;32m<ipython-input-21-18e75f6ffc57>\u001b[0m in \u001b[0;36m<module>\u001b[0;34m\u001b[0m\n\u001b[1;32m     12\u001b[0m \u001b[0;34m\u001b[0m\u001b[0m\n\u001b[1;32m     13\u001b[0m print(\n\u001b[0;32m---> 14\u001b[0;31m     \u001b[0mjiomartFetchPrice\u001b[0m\u001b[0;34m(\u001b[0m\u001b[0murls\u001b[0m\u001b[0;34m[\u001b[0m\u001b[0;34m'AmulButter'\u001b[0m\u001b[0;34m]\u001b[0m\u001b[0;34m[\u001b[0m\u001b[0;34m'jiomart'\u001b[0m\u001b[0;34m]\u001b[0m\u001b[0;34m)\u001b[0m\u001b[0;34m,\u001b[0m\u001b[0;34m\u001b[0m\u001b[0;34m\u001b[0m\u001b[0m\n\u001b[0m\u001b[1;32m     15\u001b[0m     \u001b[0;31m# dmartFetchPrice(urls['AmulButter']['dmart'],\"100 gm\"),\u001b[0m\u001b[0;34m\u001b[0m\u001b[0;34m\u001b[0m\u001b[0;34m\u001b[0m\u001b[0m\n\u001b[1;32m     16\u001b[0m     \u001b[0;31m# blinkitFetchPrice(urls['AmulButter']['blinkit'], \"100 g\")\u001b[0m\u001b[0;34m\u001b[0m\u001b[0;34m\u001b[0m\u001b[0;34m\u001b[0m\u001b[0m\n",
      "\u001b[0;32m<ipython-input-20-f0b05bb84cb6>\u001b[0m in \u001b[0;36mjiomartFetchPrice\u001b[0;34m(url)\u001b[0m\n\u001b[1;32m      8\u001b[0m \u001b[0;34m\u001b[0m\u001b[0m\n\u001b[1;32m      9\u001b[0m     \u001b[0mresponse_json\u001b[0m \u001b[0;34m=\u001b[0m \u001b[0mjson\u001b[0m\u001b[0;34m.\u001b[0m\u001b[0mloads\u001b[0m\u001b[0;34m(\u001b[0m\u001b[0mresponse\u001b[0m\u001b[0;34m.\u001b[0m\u001b[0mtext\u001b[0m\u001b[0;34m)\u001b[0m\u001b[0;34m\u001b[0m\u001b[0;34m\u001b[0m\u001b[0m\n\u001b[0;32m---> 10\u001b[0;31m     \u001b[0mprice\u001b[0m \u001b[0;34m=\u001b[0m \u001b[0mresponse_json\u001b[0m\u001b[0;34m[\u001b[0m\u001b[0;34m'data'\u001b[0m\u001b[0;34m]\u001b[0m\u001b[0;34m[\u001b[0m\u001b[0;34m'selling_price'\u001b[0m\u001b[0;34m]\u001b[0m\u001b[0;34m\u001b[0m\u001b[0;34m\u001b[0m\u001b[0m\n\u001b[0m\u001b[1;32m     11\u001b[0m     \u001b[0;32mreturn\u001b[0m \u001b[0mprice\u001b[0m\u001b[0;34m\u001b[0m\u001b[0;34m\u001b[0m\u001b[0m\n\u001b[1;32m     12\u001b[0m \u001b[0;34m\u001b[0m\u001b[0m\n",
      "\u001b[0;31mTypeError\u001b[0m: list indices must be integers or slices, not str"
     ]
    }
   ],
   "source": [
    "urls = {}\n",
    "with open('urls.json','r') as f:\n",
    "    urls = json.load(f)\n",
    "\n",
    "# print(\n",
    "#     dmartFetchPrice(urls['Aashirvaad']['dmart'],\"10 kg\"),\n",
    "#     blinkitFetchPrice(urls['Aashirvaad']['blinkit'], \"10 kg\"),\n",
    "#     bigbasketFetchPrice(urls['Aashirvaad']['bigbasket']),\n",
    "#     flipkartGFetchPrice(urls['Aashirvaad']['flipkartG']),\n",
    "#     jiomartFetchPrice(urls['Aashirvaad']['jiomart'])\n",
    "# )\n",
    "\n",
    "print(\n",
    "    # jiomartFetchPrice(urls['AmulButter']['jiomart']),\n",
    "    dmartFetchPrice(urls['AmulButter']['dmart'],\"100 gm\"),\n",
    "    blinkitFetchPrice(urls['AmulButter']['blinkit'], \"100 g\")\n",
    ")\n"
   ]
  }
 ],
 "metadata": {
  "interpreter": {
   "hash": "31f2aee4e71d21fbe5cf8b01ff0e069b9275f58929596ceb00d14d90e3e16cd6"
  },
  "kernelspec": {
   "display_name": "Python 3.6.9 64-bit",
   "language": "python",
   "name": "python3"
  },
  "language_info": {
   "codemirror_mode": {
    "name": "ipython",
    "version": 3
   },
   "file_extension": ".py",
   "mimetype": "text/x-python",
   "name": "python",
   "nbconvert_exporter": "python",
   "pygments_lexer": "ipython3",
   "version": "3.6.9"
  },
  "orig_nbformat": 4
 },
 "nbformat": 4,
 "nbformat_minor": 2
}
